{
 "cells": [
  {
   "cell_type": "markdown",
   "metadata": {},
   "source": [
    "# Setting up mamba\n",
    "\n",
    "Used the instructions at this github repo: https://github.com/conda-forge/miniforge"
   ]
  },
  {
   "cell_type": "markdown",
   "metadata": {},
   "source": [
    "# Setting up virtualenv with mamba\n",
    "\n",
    "`mamba create -n [venvname] python=3.12.0[python version to use]`"
   ]
  },
  {
   "cell_type": "markdown",
   "metadata": {},
   "source": [
    "# Activate virtualenv\n",
    "`mamba activate [venvname]`"
   ]
  },
  {
   "cell_type": "markdown",
   "metadata": {},
   "source": [
    "# Install jupyter into virtualenv\n",
    "`mamba install jupyterlab`"
   ]
  },
  {
   "cell_type": "markdown",
   "metadata": {},
   "source": [
    "# Add the virtualenv as an ipython kernel\n",
    "`ipython kernel install --user --name=[venvname]`"
   ]
  },
  {
   "cell_type": "markdown",
   "id": "47763e64-5408-4601-b942-e46e9e1ed3cc",
   "metadata": {},
   "source": [
    "Now when you got to open a jupyter notebook select the kernel with your venvname and you're good to go!"
   ]
  },
  {
   "cell_type": "markdown",
   "metadata": {},
   "source": []
  }
 ],
 "metadata": {
  "kernelspec": {
   "display_name": "practical_deep_learning_mamba",
   "language": "python",
   "name": "python3"
  },
  "language_info": {
   "codemirror_mode": {
    "name": "ipython",
    "version": 3
   },
   "file_extension": ".py",
   "mimetype": "text/x-python",
   "name": "python",
   "nbconvert_exporter": "python",
   "pygments_lexer": "ipython3",
   "version": "3.12.0"
  }
 },
 "nbformat": 4,
 "nbformat_minor": 5
}
